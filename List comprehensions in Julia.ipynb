{
 "cells": [
  {
   "cell_type": "markdown",
   "id": "da467f94",
   "metadata": {},
   "source": [
    "# List comprehensions and for loops"
   ]
  },
  {
   "cell_type": "code",
   "execution_count": 86,
   "id": "db4351f7",
   "metadata": {},
   "outputs": [],
   "source": [
    "using BenchmarkTools"
   ]
  },
  {
   "cell_type": "code",
   "execution_count": 1,
   "id": "623ed661",
   "metadata": {},
   "outputs": [
    {
     "data": {
      "text/plain": [
       "7-element Array{Int64,1}:\n",
       " 1\n",
       " 2\n",
       " 3\n",
       " 4\n",
       " 5\n",
       " 6\n",
       " 7"
      ]
     },
     "execution_count": 1,
     "metadata": {},
     "output_type": "execute_result"
    }
   ],
   "source": [
    "lst = [1, 2, 3, 4, 5, 6, 7]"
   ]
  },
  {
   "cell_type": "code",
   "execution_count": 8,
   "id": "c4c8672f",
   "metadata": {},
   "outputs": [
    {
     "data": {
      "text/plain": [
       "1:7"
      ]
     },
     "execution_count": 8,
     "metadata": {},
     "output_type": "execute_result"
    }
   ],
   "source": [
    "lst = range(1, length=7)"
   ]
  },
  {
   "cell_type": "code",
   "execution_count": 9,
   "id": "a8fb6647",
   "metadata": {},
   "outputs": [
    {
     "data": {
      "text/plain": [
       "7-element Array{Int64,1}:\n",
       " 1\n",
       " 2\n",
       " 3\n",
       " 4\n",
       " 5\n",
       " 6\n",
       " 7"
      ]
     },
     "execution_count": 9,
     "metadata": {},
     "output_type": "execute_result"
    }
   ],
   "source": [
    "lst = Array(lst)"
   ]
  },
  {
   "cell_type": "code",
   "execution_count": 11,
   "id": "c622f5f4",
   "metadata": {},
   "outputs": [
    {
     "data": {
      "text/plain": [
       "7-element Array{Int64,1}:\n",
       " 1\n",
       " 2\n",
       " 3\n",
       " 4\n",
       " 5\n",
       " 6\n",
       " 7"
      ]
     },
     "execution_count": 11,
     "metadata": {},
     "output_type": "execute_result"
    }
   ],
   "source": [
    "lst = Array(1:7)"
   ]
  },
  {
   "cell_type": "code",
   "execution_count": 89,
   "id": "a015246e",
   "metadata": {},
   "outputs": [
    {
     "name": "stdout",
     "output_type": "stream",
     "text": [
      "  443.308 ns (7 allocations: 224 bytes)\n"
     ]
    }
   ],
   "source": [
    "#new_lst = []\n",
    "new_lst = Array{Int64, 1}()\n",
    "\n",
    "@btime for i in lst\n",
    "    append!(new_lst, i)\n",
    "end\n"
   ]
  },
  {
   "cell_type": "code",
   "execution_count": 90,
   "id": "313b7b87",
   "metadata": {},
   "outputs": [
    {
     "name": "stdout",
     "output_type": "stream",
     "text": [
      "  112.412 ns (2 allocations: 160 bytes)\n"
     ]
    },
    {
     "data": {
      "text/plain": [
       "7-element Array{Int64,1}:\n",
       " 1\n",
       " 2\n",
       " 3\n",
       " 4\n",
       " 5\n",
       " 6\n",
       " 7"
      ]
     },
     "execution_count": 90,
     "metadata": {},
     "output_type": "execute_result"
    }
   ],
   "source": [
    "@btime [i for i in lst]"
   ]
  },
  {
   "cell_type": "code",
   "execution_count": 43,
   "id": "30564e97",
   "metadata": {},
   "outputs": [
    {
     "name": "stdout",
     "output_type": "stream",
     "text": [
      "Any[2.718281828459045, 7.38905609893065, 20.085536923187668, 54.598150033144236, 148.4131591025766, 403.4287934927351, 1096.6331584284585]"
     ]
    }
   ],
   "source": [
    "new_lst = []\n",
    "for i in lst\n",
    "    append!(new_lst, exp(i))\n",
    "end\n",
    "print(new_lst)"
   ]
  },
  {
   "cell_type": "code",
   "execution_count": 46,
   "id": "76662a74",
   "metadata": {},
   "outputs": [
    {
     "data": {
      "text/plain": [
       "7-element Array{Float64,1}:\n",
       "    2.718281828459045\n",
       "    7.38905609893065\n",
       "   20.085536923187668\n",
       "   54.598150033144236\n",
       "  148.4131591025766\n",
       "  403.4287934927351\n",
       " 1096.6331584284585"
      ]
     },
     "execution_count": 46,
     "metadata": {},
     "output_type": "execute_result"
    }
   ],
   "source": [
    "[exp(i) for i in lst]"
   ]
  },
  {
   "cell_type": "code",
   "execution_count": 93,
   "id": "b551ffd3",
   "metadata": {},
   "outputs": [
    {
     "name": "stdout",
     "output_type": "stream",
     "text": [
      "Any[1, 2, 1, 2, 1, 2, 1, 2, 1, 2, 1, 2, 1, 2]"
     ]
    }
   ],
   "source": [
    "new_lst = []\n",
    "for i in lst\n",
    "    append!(new_lst, lst[1:2])\n",
    "end\n",
    "print(new_lst)"
   ]
  },
  {
   "cell_type": "code",
   "execution_count": 94,
   "id": "a0b1b1d1",
   "metadata": {},
   "outputs": [
    {
     "data": {
      "text/plain": [
       "Array{Any,1}"
      ]
     },
     "execution_count": 94,
     "metadata": {},
     "output_type": "execute_result"
    }
   ],
   "source": [
    "typeof(new_lst)"
   ]
  },
  {
   "cell_type": "code",
   "execution_count": 50,
   "id": "96416088",
   "metadata": {},
   "outputs": [
    {
     "data": {
      "text/plain": [
       "7-element Array{Array{Int64,1},1}:\n",
       " [1, 2]\n",
       " [1, 2]\n",
       " [1, 2]\n",
       " [1, 2]\n",
       " [1, 2]\n",
       " [1, 2]\n",
       " [1, 2]"
      ]
     },
     "execution_count": 50,
     "metadata": {},
     "output_type": "execute_result"
    }
   ],
   "source": [
    "[lst[1:2] for i in lst]"
   ]
  },
  {
   "cell_type": "code",
   "execution_count": 51,
   "id": "33d7c4ee",
   "metadata": {},
   "outputs": [
    {
     "data": {
      "text/plain": [
       "2-element Array{Int64,1}:\n",
       "  7\n",
       " 14"
      ]
     },
     "execution_count": 51,
     "metadata": {},
     "output_type": "execute_result"
    }
   ],
   "source": [
    "lst[1:2]*length(lst)"
   ]
  },
  {
   "cell_type": "code",
   "execution_count": 52,
   "id": "98ee251d",
   "metadata": {},
   "outputs": [
    {
     "data": {
      "text/plain": [
       "14-element Array{Int64,1}:\n",
       " 1\n",
       " 2\n",
       " 1\n",
       " 2\n",
       " 1\n",
       " 2\n",
       " 1\n",
       " 2\n",
       " 1\n",
       " 2\n",
       " 1\n",
       " 2\n",
       " 1\n",
       " 2"
      ]
     },
     "execution_count": 52,
     "metadata": {},
     "output_type": "execute_result"
    }
   ],
   "source": [
    "repeat(lst[1:2], length(lst))"
   ]
  },
  {
   "cell_type": "code",
   "execution_count": 91,
   "id": "c076a432",
   "metadata": {},
   "outputs": [
    {
     "name": "stdout",
     "output_type": "stream",
     "text": [
      "  11.589 μs (84 allocations: 3.94 KiB)\n"
     ]
    }
   ],
   "source": [
    "new_lst = []\n",
    "@btime for letter in \"abc\"\n",
    "    for i in lst\n",
    "        append!(new_lst, [letter, i])\n",
    "    end\n",
    "end\n",
    "#print(new_lst)"
   ]
  },
  {
   "cell_type": "code",
   "execution_count": 92,
   "id": "5784f1aa",
   "metadata": {},
   "outputs": [
    {
     "name": "stdout",
     "output_type": "stream",
     "text": [
      "  8.946 μs (145 allocations: 6.59 KiB)\n"
     ]
    },
    {
     "data": {
      "text/plain": [
       "21-element Array{Array{Any,1},1}:\n",
       " ['a', 1]\n",
       " ['a', 2]\n",
       " ['a', 3]\n",
       " ['a', 4]\n",
       " ['a', 5]\n",
       " ['a', 6]\n",
       " ['a', 7]\n",
       " ['b', 1]\n",
       " ['b', 2]\n",
       " ['b', 3]\n",
       " ['b', 4]\n",
       " ['b', 5]\n",
       " ['b', 6]\n",
       " ['b', 7]\n",
       " ['c', 1]\n",
       " ['c', 2]\n",
       " ['c', 3]\n",
       " ['c', 4]\n",
       " ['c', 5]\n",
       " ['c', 6]\n",
       " ['c', 7]"
      ]
     },
     "execution_count": 92,
     "metadata": {},
     "output_type": "execute_result"
    }
   ],
   "source": [
    "@btime [[letter, i] for letter in \"abc\" for i in lst]"
   ]
  },
  {
   "cell_type": "code",
   "execution_count": 68,
   "id": "1f5e05b4",
   "metadata": {},
   "outputs": [
    {
     "data": {
      "text/plain": [
       "7-element Array{Tuple{Char,Int64},1}:\n",
       " ('a', 1)\n",
       " ('b', 2)\n",
       " ('c', 3)\n",
       " ('d', 4)\n",
       " ('e', 5)\n",
       " ('f', 6)\n",
       " ('g', 7)"
      ]
     },
     "execution_count": 68,
     "metadata": {},
     "output_type": "execute_result"
    }
   ],
   "source": [
    "letters = \"abcdefg\"\n",
    "collect(zip(letters, lst))"
   ]
  },
  {
   "cell_type": "code",
   "execution_count": 76,
   "id": "7bc78365",
   "metadata": {},
   "outputs": [
    {
     "name": "stdout",
     "output_type": "stream",
     "text": [
      "Dict{Any,Any}('f' => 6,'g' => 7,'a' => 1,'c' => 3,'d' => 4,'e' => 5,'b' => 2)"
     ]
    }
   ],
   "source": [
    "new_dct = Dict()\n",
    "for (l, i) in zip(letters, lst)\n",
    "    new_dct[l] = i\n",
    "end\n",
    "print(new_dct)"
   ]
  },
  {
   "cell_type": "code",
   "execution_count": 78,
   "id": "731f6e7c",
   "metadata": {},
   "outputs": [
    {
     "data": {
      "text/plain": [
       "Dict{Char,Int64} with 7 entries:\n",
       "  'f' => 6\n",
       "  'g' => 7\n",
       "  'a' => 1\n",
       "  'c' => 3\n",
       "  'd' => 4\n",
       "  'e' => 5\n",
       "  'b' => 2"
      ]
     },
     "execution_count": 78,
     "metadata": {},
     "output_type": "execute_result"
    }
   ],
   "source": [
    "Dict([l => i for (l, i) in zip(letters, lst)])"
   ]
  },
  {
   "cell_type": "code",
   "execution_count": 80,
   "id": "98c36a80",
   "metadata": {},
   "outputs": [
    {
     "data": {
      "text/plain": [
       "4-element Array{Char,1}:\n",
       " 'd': ASCII/Unicode U+0064 (category Ll: Letter, lowercase)\n",
       " 'e': ASCII/Unicode U+0065 (category Ll: Letter, lowercase)\n",
       " 'f': ASCII/Unicode U+0066 (category Ll: Letter, lowercase)\n",
       " 'g': ASCII/Unicode U+0067 (category Ll: Letter, lowercase)"
      ]
     },
     "execution_count": 80,
     "metadata": {},
     "output_type": "execute_result"
    }
   ],
   "source": [
    "other_letters = \"defgijk\"\n",
    "intersect(letters, other_letters)"
   ]
  },
  {
   "cell_type": "code",
   "execution_count": 84,
   "id": "6df8f0fb",
   "metadata": {},
   "outputs": [
    {
     "data": {
      "text/plain": [
       "4-element Array{Char,1}:\n",
       " 'd': ASCII/Unicode U+0064 (category Ll: Letter, lowercase)\n",
       " 'e': ASCII/Unicode U+0065 (category Ll: Letter, lowercase)\n",
       " 'f': ASCII/Unicode U+0066 (category Ll: Letter, lowercase)\n",
       " 'g': ASCII/Unicode U+0067 (category Ll: Letter, lowercase)"
      ]
     },
     "execution_count": 84,
     "metadata": {},
     "output_type": "execute_result"
    }
   ],
   "source": [
    "[l for l in letters if l in other_letters]"
   ]
  },
  {
   "cell_type": "code",
   "execution_count": null,
   "id": "8f379990",
   "metadata": {},
   "outputs": [],
   "source": []
  }
 ],
 "metadata": {
  "kernelspec": {
   "display_name": "Julia 1.5.2",
   "language": "julia",
   "name": "julia-1.5"
  },
  "language_info": {
   "file_extension": ".jl",
   "mimetype": "application/julia",
   "name": "julia",
   "version": "1.5.2"
  }
 },
 "nbformat": 4,
 "nbformat_minor": 5
}
