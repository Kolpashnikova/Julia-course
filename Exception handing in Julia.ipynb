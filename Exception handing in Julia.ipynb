{
 "cells": [
  {
   "cell_type": "markdown",
   "id": "192daefe",
   "metadata": {},
   "source": [
    "## Try-catch statements"
   ]
  },
  {
   "cell_type": "markdown",
   "id": "54a30dac",
   "metadata": {},
   "source": [
    "## Example 1"
   ]
  },
  {
   "cell_type": "code",
   "execution_count": null,
   "id": "986e7c59",
   "metadata": {},
   "outputs": [],
   "source": [
    "try\n",
    "    a = 2 + \"text\"\n",
    "    println(a)\n",
    "catch\n",
    "    println(\"didn't work\")\n",
    "end"
   ]
  },
  {
   "cell_type": "code",
   "execution_count": null,
   "id": "a33405a0",
   "metadata": {},
   "outputs": [],
   "source": [
    "a = 2 + \"text\"\n",
    "print(a)"
   ]
  },
  {
   "cell_type": "markdown",
   "id": "f0e5f0bd",
   "metadata": {},
   "source": [
    "## Named and other errors"
   ]
  },
  {
   "cell_type": "markdown",
   "id": "17d629a4",
   "metadata": {},
   "source": [
    "There are many types of exception in Julia. Some of them are:\n",
    "- ArgumentError\n",
    "- DomainError\n",
    "- KeyError\n",
    "- MethodError\n",
    "- TypeError \n",
    "- UndefVarError etc."
   ]
  },
  {
   "cell_type": "markdown",
   "id": "162064c2",
   "metadata": {},
   "source": [
    "## Example 2"
   ]
  },
  {
   "cell_type": "code",
   "execution_count": null,
   "id": "b0ccb348",
   "metadata": {},
   "outputs": [],
   "source": [
    "try\n",
    "    print(x)\n",
    "catch e\n",
    "    if isa(e, UndefVarError)\n",
    "        print(\"you didn't define the variable\")\n",
    "    elseif isa(e, MethodError)\n",
    "        print(\"you are using wrong type of variable\")\n",
    "    else\n",
    "        print(\"Not a UndefVarError or MethodError, can be another named error but we don't know\")\n",
    "    end\n",
    "end"
   ]
  },
  {
   "cell_type": "markdown",
   "id": "61dd6f63",
   "metadata": {},
   "source": [
    "## Example 3"
   ]
  },
  {
   "cell_type": "code",
   "execution_count": null,
   "id": "8bd8bdd0",
   "metadata": {},
   "outputs": [],
   "source": [
    "x = \"text\"\n",
    "try\n",
    "    sum(x)\n",
    "catch e\n",
    "    if isa(e, UndefVarError)\n",
    "        print(\"you didn't define the variable\")\n",
    "    elseif isa(e, MethodError)\n",
    "        print(\"you are using wrong type of variable for this method\")\n",
    "    else\n",
    "        print(\"Not a UndefVarError or MethodError, can be another named error but we don't know\")\n",
    "    end\n",
    "end"
   ]
  },
  {
   "cell_type": "markdown",
   "id": "283f1733",
   "metadata": {},
   "source": [
    "## Example 4"
   ]
  },
  {
   "cell_type": "code",
   "execution_count": null,
   "id": "818d91da",
   "metadata": {},
   "outputs": [],
   "source": [
    "x = \"text\"\n",
    "try\n",
    "    print().sum(x)\n",
    "catch e\n",
    "    if isa(e, UndefVarError)\n",
    "        print(\"you didn't define the variable\")\n",
    "    elseif isa(e, MethodError)\n",
    "        print(\"you are using wrong type of variable for this method\")\n",
    "    else\n",
    "        print(\"Not a UndefVarError or MethodError, can be another named error but we don't know\")\n",
    "    end\n",
    "end"
   ]
  },
  {
   "cell_type": "markdown",
   "id": "168e8583",
   "metadata": {},
   "source": [
    "## Try-finally"
   ]
  },
  {
   "cell_type": "markdown",
   "id": "4a2ac6bd",
   "metadata": {},
   "source": [
    "## Example 5"
   ]
  },
  {
   "cell_type": "code",
   "execution_count": null,
   "id": "ff096f0c",
   "metadata": {},
   "outputs": [],
   "source": [
    "x = \"text\"\n",
    "try\n",
    "    sum().println(x)\n",
    "catch\n",
    "    println(\"you got an error\")\n",
    "finally\n",
    "    println(x)\n",
    "end"
   ]
  },
  {
   "cell_type": "markdown",
   "id": "eb74c3e4",
   "metadata": {},
   "source": [
    "## Example 6"
   ]
  },
  {
   "cell_type": "code",
   "execution_count": null,
   "id": "e291d40e",
   "metadata": {},
   "outputs": [],
   "source": [
    "x = \"text\"\n",
    "try\n",
    "    println(x)\n",
    "catch\n",
    "    print(\"you got an error\")\n",
    "finally\n",
    "    println(x)\n",
    "end"
   ]
  },
  {
   "cell_type": "markdown",
   "id": "e8342d26",
   "metadata": {},
   "source": [
    "## Asserting Type"
   ]
  },
  {
   "cell_type": "markdown",
   "id": "8bbf511a",
   "metadata": {},
   "source": [
    "## Example 7"
   ]
  },
  {
   "cell_type": "code",
   "execution_count": null,
   "id": "bc3202b5",
   "metadata": {},
   "outputs": [],
   "source": [
    "isa(x, Int) ? println(\"it's an integer\") : println(\"not an integer\")"
   ]
  },
  {
   "cell_type": "markdown",
   "id": "06659dbd",
   "metadata": {},
   "source": [
    "## Example 8"
   ]
  },
  {
   "cell_type": "code",
   "execution_count": null,
   "id": "7af112f1",
   "metadata": {},
   "outputs": [],
   "source": [
    "isa(x, Int) ? println(\"it's an integer\") : throw(error(\"not an integer\"))"
   ]
  },
  {
   "cell_type": "code",
   "execution_count": null,
   "id": "87fd78b1",
   "metadata": {},
   "outputs": [],
   "source": []
  }
 ],
 "metadata": {
  "@webio": {
   "lastCommId": null,
   "lastKernelId": null
  },
  "kernelspec": {
   "display_name": "Julia 1.5.2",
   "language": "julia",
   "name": "julia-1.5"
  },
  "language_info": {
   "file_extension": ".jl",
   "mimetype": "application/julia",
   "name": "julia",
   "version": "1.5.2"
  }
 },
 "nbformat": 4,
 "nbformat_minor": 5
}
