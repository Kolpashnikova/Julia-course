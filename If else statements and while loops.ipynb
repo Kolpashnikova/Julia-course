{
 "cells": [
  {
   "cell_type": "code",
   "execution_count": 1,
   "id": "45b691a1",
   "metadata": {},
   "outputs": [
    {
     "data": {
      "text/plain": [
       "MersenneTwister(UInt32[0x00000002], Random.DSFMT.DSFMT_state(Int32[-641910338, 1073498426, 723285883, 1072698796, -1488430546, 1073569104, -731969899, 1072832439, 428204485, 1073526484  …  -1507702375, 1073598657, -1605363939, 1073095897, -2041507079, 747155801, 735731947, -1871817892, 382, 0]), [0.0, 0.0, 0.0, 0.0, 0.0, 0.0, 0.0, 0.0, 0.0, 0.0  …  0.0, 0.0, 0.0, 0.0, 0.0, 0.0, 0.0, 0.0, 0.0, 0.0], UInt128[0x00000000000000000000000000000000, 0x00000000000000000000000000000000, 0x00000000000000000000000000000000, 0x00000000000000000000000000000000, 0x00000000000000000000000000000000, 0x00000000000000000000000000000000, 0x00000000000000000000000000000000, 0x00000000000000000000000000000000, 0x00000000000000000000000000000000, 0x00000000000000000000000000000000  …  0x00000000000000000000000000000000, 0x00000000000000000000000000000000, 0x00000000000000000000000000000000, 0x00000000000000000000000000000000, 0x00000000000000000000000000000000, 0x00000000000000000000000000000000, 0x00000000000000000000000000000000, 0x00000000000000000000000000000000, 0x00000000000000000000000000000000, 0x00000000000000000000000000000000], 1002, 0)"
      ]
     },
     "execution_count": 1,
     "metadata": {},
     "output_type": "execute_result"
    }
   ],
   "source": [
    "using Random\n",
    "Random.seed!(2)"
   ]
  },
  {
   "cell_type": "markdown",
   "id": "302b28ac",
   "metadata": {},
   "source": [
    "## Example 1"
   ]
  },
  {
   "cell_type": "code",
   "execution_count": 2,
   "id": "d72aa52f",
   "metadata": {},
   "outputs": [
    {
     "name": "stdout",
     "output_type": "stream",
     "text": [
      "b is greater than a, and its value is 0.5238785747844117 >= 0.36679641243992434"
     ]
    }
   ],
   "source": [
    "a = rand()\n",
    "b = rand()\n",
    "if a > b\n",
    "    print(\"a is greater than b, and its value is $a > $b\")\n",
    "else\n",
    "    print(\"b is greater than a, and its value is $b >= $a\")\n",
    "end"
   ]
  },
  {
   "cell_type": "markdown",
   "id": "ee8943b6",
   "metadata": {},
   "source": [
    "## Example 2"
   ]
  },
  {
   "cell_type": "code",
   "execution_count": 3,
   "id": "31dd6a51",
   "metadata": {},
   "outputs": [
    {
     "name": "stdout",
     "output_type": "stream",
     "text": [
      "a is less than b and c"
     ]
    }
   ],
   "source": [
    "c = rand()\n",
    "if a > b && a > c\n",
    "    print(\"a is greater than b and c, and its value is $a\")\n",
    "elseif a > b && a < c\n",
    "    print(\"a is greater than b but less than c\")\n",
    "elseif a==b || a==c\n",
    "    print(\"a is equal to b or a is equal to c\")\n",
    "else\n",
    "    print(\"a is less than b and c\")\n",
    "end"
   ]
  },
  {
   "cell_type": "markdown",
   "id": "73a308ad",
   "metadata": {},
   "source": [
    "## Example 3"
   ]
  },
  {
   "cell_type": "code",
   "execution_count": null,
   "id": "42b656a8",
   "metadata": {},
   "outputs": [],
   "source": [
    "a = rand()\n",
    "b = rand()\n",
    "c = rand()\n",
    "if a > b\n",
    "    if a > c\n",
    "        print(\"a($a) is greater than b($b) and c($c)\")\n",
    "    elseif a==c\n",
    "        print(\"a($a) is greater than b($b) but equal to c($c)\")\n",
    "    else\n",
    "        print(\"a($a) is greater than b($b) but less than c($c)\")\n",
    "    end\n",
    "elseif a == b\n",
    "    if a > c\n",
    "        print(\"a($a) is equal to b($b) and greater than c($c)\")\n",
    "    elseif a==c\n",
    "        print(\"a($a) equal to b($b) and c($c)\")\n",
    "    else\n",
    "        print(\"a($a) is equal to b($b) but less than c($c)\")\n",
    "    end\n",
    "else\n",
    "    if a > c\n",
    "        print(\"a($a) is less than b($b) and greater than c($c)\")\n",
    "    elseif a==c\n",
    "        print(\"a($a) is less than b($b) but equal to c($c)\")\n",
    "    else\n",
    "        print(\"a($a) is less than b($b) and c($c)\")  \n",
    "    end\n",
    "end"
   ]
  },
  {
   "cell_type": "markdown",
   "id": "a2df9cc5",
   "metadata": {},
   "source": [
    "## Example 4"
   ]
  },
  {
   "cell_type": "code",
   "execution_count": 4,
   "id": "e3c0f135",
   "metadata": {},
   "outputs": [
    {
     "name": "stdout",
     "output_type": "stream",
     "text": [
      "0\n",
      "1\n",
      "2\n",
      "3\n",
      "4\n",
      "5\n",
      "6\n",
      "7\n",
      "8\n",
      "9\n"
     ]
    }
   ],
   "source": [
    "counter = 0\n",
    "while counter < 10\n",
    "    println(counter)\n",
    "    counter+=1\n",
    "end"
   ]
  },
  {
   "cell_type": "markdown",
   "id": "8c7dba9c",
   "metadata": {},
   "source": [
    "## Example 5"
   ]
  },
  {
   "cell_type": "code",
   "execution_count": 5,
   "id": "ad21644f",
   "metadata": {},
   "outputs": [
    {
     "name": "stdout",
     "output_type": "stream",
     "text": [
      "0\n",
      "1\n",
      "2\n",
      "3\n",
      "4\n",
      "5\n"
     ]
    }
   ],
   "source": [
    "counter = 0\n",
    "while counter < 10\n",
    "    println(counter)\n",
    "    counter+=1\n",
    "    if counter == 6\n",
    "        break\n",
    "    end\n",
    "end"
   ]
  },
  {
   "cell_type": "markdown",
   "id": "2bcced82",
   "metadata": {},
   "source": [
    "## Example 6"
   ]
  },
  {
   "cell_type": "code",
   "execution_count": 6,
   "id": "0d79dbb2",
   "metadata": {},
   "outputs": [
    {
     "name": "stdout",
     "output_type": "stream",
     "text": [
      "1\n",
      "2\n",
      "3\n",
      "5\n",
      "6\n",
      "7\n",
      "8\n",
      "9\n",
      "10\n"
     ]
    }
   ],
   "source": [
    "counter = 0\n",
    "while counter < 10\n",
    "    counter+=1\n",
    "    if counter == 4\n",
    "        continue\n",
    "    end\n",
    "    println(counter)\n",
    "end"
   ]
  },
  {
   "cell_type": "markdown",
   "id": "e6689e43",
   "metadata": {},
   "source": [
    "## Example 7"
   ]
  },
  {
   "cell_type": "code",
   "execution_count": 7,
   "id": "15752bc7",
   "metadata": {},
   "outputs": [
    {
     "name": "stdout",
     "output_type": "stream",
     "text": [
      "1\n",
      "3\n",
      "5\n",
      "7\n",
      "9\n"
     ]
    }
   ],
   "source": [
    "counter = 0\n",
    "while counter < 10\n",
    "    counter+=1\n",
    "    if counter % 2 ==0\n",
    "        continue\n",
    "    end\n",
    "    println(counter)\n",
    "end"
   ]
  },
  {
   "cell_type": "code",
   "execution_count": null,
   "id": "9ddbc45d",
   "metadata": {},
   "outputs": [],
   "source": []
  }
 ],
 "metadata": {
  "@webio": {
   "lastCommId": null,
   "lastKernelId": null
  },
  "kernelspec": {
   "display_name": "Julia 1.5.2",
   "language": "julia",
   "name": "julia-1.5"
  },
  "language_info": {
   "file_extension": ".jl",
   "mimetype": "application/julia",
   "name": "julia",
   "version": "1.5.2"
  }
 },
 "nbformat": 4,
 "nbformat_minor": 5
}
