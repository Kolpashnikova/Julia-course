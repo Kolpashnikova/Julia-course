{
 "cells": [
  {
   "cell_type": "code",
   "execution_count": 1,
   "id": "5b6cb8a0",
   "metadata": {},
   "outputs": [],
   "source": [
    "cd(\"word_game\")"
   ]
  },
  {
   "cell_type": "code",
   "execution_count": 2,
   "id": "b592a1cd",
   "metadata": {},
   "outputs": [
    {
     "data": {
      "text/plain": [
       "\"/Users/kamilakolpashnikova/Documents/GitHub/Julia-course/word_game\""
      ]
     },
     "execution_count": 2,
     "metadata": {},
     "output_type": "execute_result"
    }
   ],
   "source": [
    "pwd()"
   ]
  },
  {
   "cell_type": "code",
   "execution_count": 3,
   "id": "6eeb47aa",
   "metadata": {},
   "outputs": [],
   "source": [
    "#import Pkg; Pkg.add(\"DataFrames\")\n",
    "#import Pkg; Pkg.add(\"Crayons\")\n",
    "#import Pkg; Pkg.add(\"DataStructures\")\n",
    "using CSV\n",
    "using DataFrames\n",
    "using Crayons.Box\n",
    "using DataStructures # for SortedDict"
   ]
  },
  {
   "cell_type": "code",
   "execution_count": 4,
   "id": "8b66280c",
   "metadata": {},
   "outputs": [
    {
     "data": {
      "text/plain": [
       "play_game_match (generic function with 1 method)"
      ]
     },
     "execution_count": 4,
     "metadata": {},
     "output_type": "execute_result"
    }
   ],
   "source": [
    "function play_game_match()\n",
    "    ## create a list of already used words\n",
    "    used_words = CSV.read(\"usedwords.csv\", DataFrame; header=false)[:,1]\n",
    "        \n",
    "    ## chose a word from list of words    \n",
    "    words = CSV.read(\"word_from_bestwordlist.csv\", DataFrame; header=false, delim=\"\\t\")[:,1]\n",
    "    words = [split(i, \" \") for i in words]\n",
    "    words = [lowercase(item) for sublist in words for item in sublist]\n",
    "    \n",
    "    ## chosing a random word that is not in the used file\n",
    "    while true\n",
    "        idx = rand(1:length(words))\n",
    "        global word = strip(lowercase(words[idx]))\n",
    "        if word in used_words\n",
    "            continue\n",
    "        else\n",
    "            break\n",
    "        end\n",
    "    end\n",
    "    \n",
    "    ## save new used_words \n",
    "    push!(used_words, word)\n",
    "    CSV.write(\"usedwords.csv\", DataFrame(col = used_words); header=false)\n",
    "    \n",
    "    # this list will keep the list of entry words with colors added \n",
    "    entries = []\n",
    "    patterns = []\n",
    "    \n",
    "    \n",
    "    # this dictionary will contain letters and colors corresponding\n",
    "    alphabet = SortedDict{String, String}()\n",
    "    for char in \"abcdefghijklmnopqrstuvwxyz\"\n",
    "        alphabet[string(char)] = string(\"\")\n",
    "    end\n",
    "    \n",
    "    # number of tries already done and number of tries left\n",
    "    tries = 0\n",
    "    allowed_tries =6\n",
    "    \n",
    "    \n",
    "    while allowed_tries > 0\n",
    "        # clear the output area\n",
    "        IJulia.clear_output(true)  \n",
    "        # get user's entry\n",
    "        entry = readline()\n",
    "        entry = String(strip(lowercase(entry)))\n",
    "        print(\"\\n\")\n",
    "    \n",
    "        # initiate array for colors\n",
    "        color_pattern = []\n",
    "        \n",
    "        # throw errors if the user enters not 5-letter words and words that are not in dicitonary\n",
    "        if length(entry) != 5           \n",
    "            println(\"The word must be a 5-letter word. Please try again\")\n",
    "            continue\n",
    "        end\n",
    "        \n",
    "        if entry in words\n",
    "            print(\"\")\n",
    "        else\n",
    "            print(\"There is no such word as $entry. Please try again\")\n",
    "            continue\n",
    "        end\n",
    "        \n",
    "        push!(entries, entry)\n",
    "        \n",
    "        # update tries\n",
    "        tries +=1\n",
    "        allowed_tries -=1 \n",
    "            \n",
    "       \n",
    "        # see if entry has some letters matched with the word and update patterns and alphabet\n",
    "        if intersect(Set(entry), Set(\"abcdefghijklmnopqrstuvwxyz\"))==Set(entry)\n",
    "            for (k,v) in enumerate(entry)\n",
    "                if !contains(word, v)\n",
    "                    push!(color_pattern, \"gray\")\n",
    "                    alphabet[string(v)] = \"gray\"\n",
    "                elseif v in word && Dict(enumerate(word))[k]==v\n",
    "                    push!(color_pattern, \"green\")\n",
    "                    alphabet[string(v)] = \"green\"\n",
    "                elseif v in word && Dict(enumerate(word))[k]!=v\n",
    "                    push!(color_pattern, \"yellow\")\n",
    "                    if alphabet[string(v)]==string(\"\")\n",
    "                        alphabet[string(v)] = \"yellow\"\n",
    "                    end\n",
    "                end\n",
    "            end\n",
    "    \n",
    "            push!(patterns, color_pattern)\n",
    "           \n",
    "            # print out the output\n",
    "            for (k, ent) in enumerate(entries)\n",
    "                for i in 1:length(ent)\n",
    "                    if patterns[k][i] ==\"gray\"\n",
    "                        print(LIGHT_GRAY_BG(string(ent[i])))\n",
    "                    elseif patterns[k][i] ==\"green\"\n",
    "                        print(GREEN_BG(string(ent[i])))\n",
    "                    elseif patterns[k][i] ==\"yellow\"\n",
    "                        print(YELLOW_BG(string(ent[i])))\n",
    "                    else\n",
    "                        print(ent[i])\n",
    "                    end\n",
    "                end\n",
    "                println(\"\")\n",
    "            end\n",
    "            for (char, v) in alphabet\n",
    "                if v == \"\"\n",
    "                    print(char)\n",
    "                    print(\" \")\n",
    "                elseif v==\"gray\"\n",
    "                    print(LIGHT_GRAY_BG(char))\n",
    "                    print(\" \")\n",
    "                elseif v==\"green\"\n",
    "                    print(GREEN_BG(char))\n",
    "                    print(\" \")\n",
    "                elseif v==\"yellow\"\n",
    "                    print(YELLOW_BG(char))\n",
    "                    print(\" \")\n",
    "                end\n",
    "            end\n",
    "            \n",
    "            print(\"\\n\")\n",
    "            \n",
    "            if entry==word\n",
    "                print(\"You win! The word was $word. You won in $tries tries\")\n",
    "                break\n",
    "            end\n",
    "        # because we already covered the errors in the prior if's this error will never occur    \n",
    "        else\n",
    "            print(\"You have made a mistake in your input. Please try again\")\n",
    "            continue\n",
    "        end\n",
    "        # finish the game if there are no more tries left\n",
    "        if allowed_tries==0\n",
    "            print(\"Game over! The word was $word.\")\n",
    "            break\n",
    "        end\n",
    "    end\n",
    "\n",
    "end"
   ]
  },
  {
   "cell_type": "code",
   "execution_count": null,
   "id": "9b3d9b9c",
   "metadata": {},
   "outputs": [
    {
     "name": "stdout",
     "output_type": "stream",
     "text": [
      "stdin> colon\n",
      "\n",
      "\u001b[47mr\u001b[49m\u001b[47ma\u001b[49m\u001b[47mi\u001b[49m\u001b[43ms\u001b[49m\u001b[47me\u001b[49m\n",
      "\u001b[47mc\u001b[49m\u001b[42mo\u001b[49m\u001b[47ml\u001b[49m\u001b[42mo\u001b[49m\u001b[47mn\u001b[49m\n",
      "\u001b[47ma\u001b[49m b \u001b[47mc\u001b[49m d \u001b[47me\u001b[49m f g h \u001b[47mi\u001b[49m j k \u001b[47ml\u001b[49m m \u001b[47mn\u001b[49m \u001b[42mo\u001b[49m p q \u001b[47mr\u001b[49m \u001b[43ms\u001b[49m t u v w x y z \n"
     ]
    }
   ],
   "source": [
    "play_game_match()"
   ]
  },
  {
   "cell_type": "code",
   "execution_count": null,
   "id": "17fa446e",
   "metadata": {},
   "outputs": [],
   "source": []
  }
 ],
 "metadata": {
  "kernelspec": {
   "display_name": "Julia 1.7.1",
   "language": "julia",
   "name": "julia-1.7"
  },
  "language_info": {
   "file_extension": ".jl",
   "mimetype": "application/julia",
   "name": "julia",
   "version": "1.7.1"
  }
 },
 "nbformat": 4,
 "nbformat_minor": 5
}
