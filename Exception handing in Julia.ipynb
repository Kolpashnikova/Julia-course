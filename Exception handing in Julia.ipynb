{
 "cells": [
  {
   "cell_type": "markdown",
   "id": "192daefe",
   "metadata": {},
   "source": [
    "## Try-catch statements"
   ]
  },
  {
   "cell_type": "markdown",
   "id": "3970fb96",
   "metadata": {},
   "source": [
    "## Example 1"
   ]
  },
  {
   "cell_type": "code",
   "execution_count": 1,
   "id": "986e7c59",
   "metadata": {},
   "outputs": [
    {
     "name": "stdout",
     "output_type": "stream",
     "text": [
      "didn't work\n"
     ]
    }
   ],
   "source": [
    "try\n",
    "    a = 2 + \"text\"\n",
    "    println(a)\n",
    "catch\n",
    "    println(\"didn't work\")\n",
    "end"
   ]
  },
  {
   "cell_type": "code",
   "execution_count": 2,
   "id": "a33405a0",
   "metadata": {},
   "outputs": [
    {
     "ename": "LoadError",
     "evalue": "MethodError: no method matching +(::Int64, ::String)\nClosest candidates are:\n  +(::Any, ::Any, !Matched::Any, !Matched::Any...) at operators.jl:538\n  +(::T, !Matched::T) where T<:Union{Int128, Int16, Int32, Int64, Int8, UInt128, UInt16, UInt32, UInt64, UInt8} at int.jl:86\n  +(::Union{Int16, Int32, Int64, Int8}, !Matched::BigInt) at gmp.jl:531\n  ...",
     "output_type": "error",
     "traceback": [
      "MethodError: no method matching +(::Int64, ::String)\nClosest candidates are:\n  +(::Any, ::Any, !Matched::Any, !Matched::Any...) at operators.jl:538\n  +(::T, !Matched::T) where T<:Union{Int128, Int16, Int32, Int64, Int8, UInt128, UInt16, UInt32, UInt64, UInt8} at int.jl:86\n  +(::Union{Int16, Int32, Int64, Int8}, !Matched::BigInt) at gmp.jl:531\n  ...",
      "",
      "Stacktrace:",
      " [1] top-level scope at In[2]:1",
      " [2] include_string(::Function, ::Module, ::String, ::String) at ./loading.jl:1091"
     ]
    }
   ],
   "source": [
    "a = 2 + \"text\"\n",
    "print(a)"
   ]
  },
  {
   "cell_type": "markdown",
   "id": "f0e5f0bd",
   "metadata": {},
   "source": [
    "## Named and other errors"
   ]
  },
  {
   "cell_type": "markdown",
   "id": "17d629a4",
   "metadata": {},
   "source": [
    "There are many types of exception in Julia. Some of them are:\n",
    "- ArgumentError\n",
    "- DomainError\n",
    "- KeyError\n",
    "- MethodError\n",
    "- TypeError \n",
    "- UndefVarError etc."
   ]
  },
  {
   "cell_type": "markdown",
   "id": "982667c6",
   "metadata": {},
   "source": [
    "## Example 2"
   ]
  },
  {
   "cell_type": "code",
   "execution_count": 3,
   "id": "b0ccb348",
   "metadata": {},
   "outputs": [
    {
     "name": "stdout",
     "output_type": "stream",
     "text": [
      "you didn't define the variable"
     ]
    }
   ],
   "source": [
    "try\n",
    "    print(x)\n",
    "catch e\n",
    "    if isa(e, UndefVarError)\n",
    "        print(\"you didn't define the variable\")\n",
    "    elseif isa(e, MethodError)\n",
    "        print(\"you are using wrong type of variable\")\n",
    "    else\n",
    "        print(\"Not a UndefVarError or MethodError, can be another named error but we don't know\")\n",
    "    end\n",
    "end"
   ]
  },
  {
   "cell_type": "markdown",
   "id": "b8e959eb",
   "metadata": {},
   "source": [
    "## Example 3"
   ]
  },
  {
   "cell_type": "code",
   "execution_count": 4,
   "id": "8bd8bdd0",
   "metadata": {},
   "outputs": [
    {
     "name": "stdout",
     "output_type": "stream",
     "text": [
      "you are using wrong type of variable for this method"
     ]
    }
   ],
   "source": [
    "x = \"text\"\n",
    "try\n",
    "    sum(x)\n",
    "catch e\n",
    "    if isa(e, UndefVarError)\n",
    "        print(\"you didn't define the variable\")\n",
    "    elseif isa(e, MethodError)\n",
    "        print(\"you are using wrong type of variable for this method\")\n",
    "    else\n",
    "        print(\"Not a UndefVarError or MethodError, can be another named error but we don't know\")\n",
    "    end\n",
    "end"
   ]
  },
  {
   "cell_type": "markdown",
   "id": "319a35d7",
   "metadata": {},
   "source": [
    "## Example 4"
   ]
  },
  {
   "cell_type": "code",
   "execution_count": 5,
   "id": "818d91da",
   "metadata": {},
   "outputs": [
    {
     "name": "stdout",
     "output_type": "stream",
     "text": [
      "Not a UndefVarError or MethodError, can be another named error but we don't know"
     ]
    }
   ],
   "source": [
    "x = \"text\"\n",
    "try\n",
    "    print().sum(x)\n",
    "catch e\n",
    "    if isa(e, UndefVarError)\n",
    "        print(\"you didn't define the variable\")\n",
    "    elseif isa(e, MethodError)\n",
    "        print(\"you are using wrong type of variable for this method\")\n",
    "    else\n",
    "        print(\"Not a UndefVarError or MethodError, can be another named error but we don't know\")\n",
    "    end\n",
    "end"
   ]
  },
  {
   "cell_type": "markdown",
   "id": "168e8583",
   "metadata": {},
   "source": [
    "## Try-finally"
   ]
  },
  {
   "cell_type": "markdown",
   "id": "48833bae",
   "metadata": {},
   "source": [
    "## Example 5"
   ]
  },
  {
   "cell_type": "code",
   "execution_count": 6,
   "id": "ff096f0c",
   "metadata": {},
   "outputs": [
    {
     "name": "stdout",
     "output_type": "stream",
     "text": [
      "you got an error\n",
      "text\n"
     ]
    }
   ],
   "source": [
    "x = \"text\"\n",
    "try\n",
    "    sum().println(x)\n",
    "catch\n",
    "    println(\"you got an error\")\n",
    "finally\n",
    "    println(x)\n",
    "end"
   ]
  },
  {
   "cell_type": "markdown",
   "id": "096315f5",
   "metadata": {},
   "source": [
    "## Example 6"
   ]
  },
  {
   "cell_type": "code",
   "execution_count": 7,
   "id": "e291d40e",
   "metadata": {},
   "outputs": [
    {
     "name": "stdout",
     "output_type": "stream",
     "text": [
      "text\n",
      "text\n"
     ]
    }
   ],
   "source": [
    "x = \"text\"\n",
    "try\n",
    "    println(x)\n",
    "catch\n",
    "    print(\"you got an error\")\n",
    "finally\n",
    "    println(x)\n",
    "end"
   ]
  },
  {
   "cell_type": "markdown",
   "id": "e8342d26",
   "metadata": {},
   "source": [
    "## Asserting Type"
   ]
  },
  {
   "cell_type": "markdown",
   "id": "fb43eba6",
   "metadata": {},
   "source": [
    "## Example 7"
   ]
  },
  {
   "cell_type": "code",
   "execution_count": 8,
   "id": "bc3202b5",
   "metadata": {},
   "outputs": [
    {
     "name": "stdout",
     "output_type": "stream",
     "text": [
      "not an integer\n"
     ]
    }
   ],
   "source": [
    "isa(x, Int) ? println(\"it's an integer\") : println(\"not an integer\")"
   ]
  },
  {
   "cell_type": "markdown",
   "id": "de132be1",
   "metadata": {},
   "source": [
    "## Example 8"
   ]
  },
  {
   "cell_type": "code",
   "execution_count": 9,
   "id": "7af112f1",
   "metadata": {},
   "outputs": [
    {
     "ename": "LoadError",
     "evalue": "not an integer",
     "output_type": "error",
     "traceback": [
      "not an integer",
      "",
      "Stacktrace:",
      " [1] error(::String) at ./error.jl:33",
      " [2] top-level scope at In[9]:1",
      " [3] include_string(::Function, ::Module, ::String, ::String) at ./loading.jl:1091"
     ]
    }
   ],
   "source": [
    "isa(x, Int) ? println(\"it's an integer\") : throw(error(\"not an integer\"))"
   ]
  },
  {
   "cell_type": "code",
   "execution_count": null,
   "id": "b8d74c60",
   "metadata": {},
   "outputs": [],
   "source": []
  }
 ],
 "metadata": {
  "@webio": {
   "lastCommId": null,
   "lastKernelId": null
  },
  "kernelspec": {
   "display_name": "Julia 1.5.2",
   "language": "julia",
   "name": "julia-1.5"
  },
  "language_info": {
   "file_extension": ".jl",
   "mimetype": "application/julia",
   "name": "julia",
   "version": "1.5.2"
  }
 },
 "nbformat": 4,
 "nbformat_minor": 5
}
