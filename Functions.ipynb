{
 "cells": [
  {
   "cell_type": "markdown",
   "id": "bfda436d",
   "metadata": {},
   "source": [
    "# Printing out something for functions"
   ]
  },
  {
   "cell_type": "markdown",
   "id": "2319a66f",
   "metadata": {},
   "source": [
    "## Example 1"
   ]
  },
  {
   "cell_type": "code",
   "execution_count": 1,
   "id": "35b167bb",
   "metadata": {},
   "outputs": [
    {
     "name": "stdout",
     "output_type": "stream",
     "text": [
      "The average is: 2.5"
     ]
    }
   ],
   "source": [
    "function calc_mean(a, b)\n",
    "    avg = (a + b)/2\n",
    "    print(\"The average is: $avg\")\n",
    "end\n",
    "\n",
    "calc_mean(2, 3)"
   ]
  },
  {
   "cell_type": "markdown",
   "id": "862a175e",
   "metadata": {},
   "source": [
    "## Example 2"
   ]
  },
  {
   "cell_type": "code",
   "execution_count": 2,
   "id": "a073063c",
   "metadata": {},
   "outputs": [
    {
     "name": "stdout",
     "output_type": "stream",
     "text": [
      "The average is: 3.8333333333333335"
     ]
    }
   ],
   "source": [
    "function calc_mean(a, b, c::Array)\n",
    "    avg = (a + b + sum(c))/(2 + length(c))\n",
    "    print(\"The average is: $avg\")\n",
    "end\n",
    "\n",
    "calc_mean(2, 3, [3, 4, 5, 6])"
   ]
  },
  {
   "cell_type": "markdown",
   "id": "06b17f59",
   "metadata": {},
   "source": [
    "## Example 3"
   ]
  },
  {
   "cell_type": "code",
   "execution_count": 3,
   "id": "8edb56f1",
   "metadata": {},
   "outputs": [],
   "source": [
    "using Statistics"
   ]
  },
  {
   "cell_type": "code",
   "execution_count": 4,
   "id": "096d5f55",
   "metadata": {},
   "outputs": [
    {
     "data": {
      "text/plain": [
       "describe_vars (generic function with 1 method)"
      ]
     },
     "execution_count": 4,
     "metadata": {},
     "output_type": "execute_result"
    }
   ],
   "source": [
    "function describe_vars(a::Dict, b::Dict, c::Dict)\n",
    "    println(\"==============================================\")\n",
    "    println(\"|--------- Descriptive Statistics -----------|\")\n",
    "    println(\"==============================================\")\n",
    "    println(\"| Name             |      Mean  |         SD |\")\n",
    "    println(\"----------------------------------------------\")\n",
    "    for i in (a, b, c)\n",
    "        name = i[\"name\"] \n",
    "        str1 = repeat(\" \", 16 - length(string(name)))\n",
    "        m = round(mean(i[\"values\"]); digits = 2)        \n",
    "        str2 = repeat(\" \", 10 - length(string(m)))\n",
    "        s = round(std(i[\"values\"]); digits = 2)\n",
    "        str3 = repeat(\" \", 10 - length(string(s)))\n",
    "        println(\"| $name $str1|$str2 $m |$str3 $s |\")\n",
    "    end\n",
    "    println(\"==============================================\")\n",
    "end"
   ]
  },
  {
   "cell_type": "code",
   "execution_count": 5,
   "id": "087dae19",
   "metadata": {},
   "outputs": [
    {
     "name": "stdout",
     "output_type": "stream",
     "text": [
      "==============================================\n",
      "|--------- Descriptive Statistics -----------|\n",
      "==============================================\n",
      "| Name             |      Mean  |         SD |\n",
      "----------------------------------------------\n",
      "| var1             |   244858.6 |  336733.43 |\n",
      "| var2             |       7.33 |       1.63 |\n",
      "| var3             |       22.2 |       13.1 |\n",
      "==============================================\n"
     ]
    }
   ],
   "source": [
    "a = Dict(\"name\" => \"var1\", \"values\" => [2, 3, 45, 656567,567676])\n",
    "b = Dict(\"name\" => \"var2\", \"values\" => [5, 6, 7, 8, 9, 9])\n",
    "c = Dict(\"name\" => \"var3\", \"values\" => [10, 23, 43, 12, 23])\n",
    "\n",
    "describe_vars(a, b, c)"
   ]
  },
  {
   "cell_type": "markdown",
   "id": "bab465e4",
   "metadata": {},
   "source": [
    "# Return "
   ]
  },
  {
   "cell_type": "markdown",
   "id": "379740ce",
   "metadata": {},
   "source": [
    "## Example 4"
   ]
  },
  {
   "cell_type": "code",
   "execution_count": 6,
   "id": "55658307",
   "metadata": {},
   "outputs": [
    {
     "data": {
      "text/plain": [
       "calc_avg (generic function with 1 method)"
      ]
     },
     "execution_count": 6,
     "metadata": {},
     "output_type": "execute_result"
    }
   ],
   "source": [
    "function calc_avg(a)\n",
    "    try\n",
    "        return mean(a)\n",
    "    catch\n",
    "        println(\"Your argument needs to be an Array\")\n",
    "    end\n",
    "end"
   ]
  },
  {
   "cell_type": "code",
   "execution_count": 7,
   "id": "d645c84c",
   "metadata": {},
   "outputs": [
    {
     "data": {
      "text/plain": [
       "8.25"
      ]
     },
     "execution_count": 7,
     "metadata": {},
     "output_type": "execute_result"
    }
   ],
   "source": [
    "calc_avg([1, 23, 4, 5])"
   ]
  },
  {
   "cell_type": "code",
   "execution_count": 8,
   "id": "65f51a31",
   "metadata": {},
   "outputs": [
    {
     "name": "stdout",
     "output_type": "stream",
     "text": [
      "Your argument needs to be an Array\n"
     ]
    }
   ],
   "source": [
    "calc_avg(\"sdkfgdfhg\")"
   ]
  },
  {
   "cell_type": "markdown",
   "id": "ecaf5259",
   "metadata": {},
   "source": [
    "# Returning multiple values"
   ]
  },
  {
   "cell_type": "markdown",
   "id": "e0a90cad",
   "metadata": {},
   "source": [
    "## Example 5"
   ]
  },
  {
   "cell_type": "code",
   "execution_count": 9,
   "id": "500b0dc3",
   "metadata": {},
   "outputs": [
    {
     "data": {
      "text/plain": [
       "desc (generic function with 1 method)"
      ]
     },
     "execution_count": 9,
     "metadata": {},
     "output_type": "execute_result"
    }
   ],
   "source": [
    "function desc(a)\n",
    "    return mean(a), std(a)\n",
    "end"
   ]
  },
  {
   "cell_type": "code",
   "execution_count": 10,
   "id": "47f9d3a9",
   "metadata": {},
   "outputs": [
    {
     "data": {
      "text/plain": [
       "(8.25, 9.97914491994847)"
      ]
     },
     "execution_count": 10,
     "metadata": {},
     "output_type": "execute_result"
    }
   ],
   "source": [
    "desc([1, 23, 4, 5])"
   ]
  },
  {
   "cell_type": "code",
   "execution_count": 11,
   "id": "47f711fd",
   "metadata": {},
   "outputs": [
    {
     "ename": "LoadError",
     "evalue": "MethodError: no method matching /(::Char, ::Int64)\nClosest candidates are:\n  /(!Matched::Missing, ::Number) at missing.jl:115\n  /(!Matched::BigInt, ::Union{Int16, Int32, Int64, Int8, UInt16, UInt32, UInt64, UInt8}) at gmp.jl:540\n  /(!Matched::BigFloat, ::Union{Int16, Int32, Int64, Int8}) at mpfr.jl:425\n  ...",
     "output_type": "error",
     "traceback": [
      "MethodError: no method matching /(::Char, ::Int64)\nClosest candidates are:\n  /(!Matched::Missing, ::Number) at missing.jl:115\n  /(!Matched::BigInt, ::Union{Int16, Int32, Int64, Int8, UInt16, UInt32, UInt64, UInt8}) at gmp.jl:540\n  /(!Matched::BigFloat, ::Union{Int16, Int32, Int64, Int8}) at mpfr.jl:425\n  ...",
      "",
      "Stacktrace:",
      " [1] mean(::typeof(identity), ::String) at /Users/julia/buildbot/worker/package_macos64/build/usr/share/julia/stdlib/v1.5/Statistics/src/Statistics.jl:69",
      " [2] mean(::String) at /Users/julia/buildbot/worker/package_macos64/build/usr/share/julia/stdlib/v1.5/Statistics/src/Statistics.jl:44",
      " [3] desc(::String) at ./In[9]:2",
      " [4] top-level scope at In[11]:1",
      " [5] include_string(::Function, ::Module, ::String, ::String) at ./loading.jl:1091"
     ]
    }
   ],
   "source": [
    "desc(\"sdkfgdfhg\")"
   ]
  },
  {
   "cell_type": "markdown",
   "id": "c965300a",
   "metadata": {},
   "source": [
    "## Example 6"
   ]
  },
  {
   "cell_type": "code",
   "execution_count": 12,
   "id": "7e3833f1",
   "metadata": {},
   "outputs": [
    {
     "data": {
      "text/plain": [
       "desc (generic function with 1 method)"
      ]
     },
     "execution_count": 12,
     "metadata": {},
     "output_type": "execute_result"
    }
   ],
   "source": [
    "function desc(a)\n",
    "    try\n",
    "        return mean(a), std(a)\n",
    "    catch\n",
    "        println(\"Your argument needs to be an Array\")\n",
    "    end\n",
    "end"
   ]
  },
  {
   "cell_type": "code",
   "execution_count": 13,
   "id": "97b4ec54",
   "metadata": {},
   "outputs": [
    {
     "name": "stdout",
     "output_type": "stream",
     "text": [
      "Your argument needs to be an Array\n"
     ]
    }
   ],
   "source": [
    "desc(\"sdkfgdfhg\")"
   ]
  },
  {
   "cell_type": "markdown",
   "id": "8682b0c2",
   "metadata": {},
   "source": [
    "## Example 7"
   ]
  },
  {
   "cell_type": "code",
   "execution_count": 14,
   "id": "124b0f38",
   "metadata": {},
   "outputs": [
    {
     "data": {
      "text/plain": [
       "desc_new (generic function with 1 method)"
      ]
     },
     "execution_count": 14,
     "metadata": {},
     "output_type": "execute_result"
    }
   ],
   "source": [
    "function desc_new(a::Array)\n",
    "    return mean(a), std(a)\n",
    "end"
   ]
  },
  {
   "cell_type": "code",
   "execution_count": 15,
   "id": "236ca7da",
   "metadata": {},
   "outputs": [
    {
     "ename": "LoadError",
     "evalue": "MethodError: no method matching desc_new(::String)\nClosest candidates are:\n  desc_new(!Matched::Array) at In[14]:1",
     "output_type": "error",
     "traceback": [
      "MethodError: no method matching desc_new(::String)\nClosest candidates are:\n  desc_new(!Matched::Array) at In[14]:1",
      "",
      "Stacktrace:",
      " [1] top-level scope at In[15]:1",
      " [2] include_string(::Function, ::Module, ::String, ::String) at ./loading.jl:1091"
     ]
    }
   ],
   "source": [
    "desc_new(\"sdkfgdfhg\")"
   ]
  },
  {
   "cell_type": "markdown",
   "id": "90c265f1",
   "metadata": {},
   "source": [
    "# Using defaults and keywords"
   ]
  },
  {
   "cell_type": "markdown",
   "id": "1f192794",
   "metadata": {},
   "source": [
    "## Example 8"
   ]
  },
  {
   "cell_type": "code",
   "execution_count": 16,
   "id": "0f7eb1c4",
   "metadata": {},
   "outputs": [
    {
     "data": {
      "text/plain": [
       "calc_a (generic function with 4 methods)"
      ]
     },
     "execution_count": 16,
     "metadata": {},
     "output_type": "execute_result"
    }
   ],
   "source": [
    "function calc_a(a, b, c=10, d=12, apple=3)\n",
    "    return a + b > (c + d)/apple ? true : false\n",
    "end"
   ]
  },
  {
   "cell_type": "code",
   "execution_count": 17,
   "id": "280999aa",
   "metadata": {},
   "outputs": [
    {
     "data": {
      "text/plain": [
       "false"
      ]
     },
     "execution_count": 17,
     "metadata": {},
     "output_type": "execute_result"
    }
   ],
   "source": [
    "calc_a(2, 3)"
   ]
  },
  {
   "cell_type": "code",
   "execution_count": 18,
   "id": "d6bcaef4",
   "metadata": {},
   "outputs": [
    {
     "data": {
      "text/plain": [
       "true"
      ]
     },
     "execution_count": 18,
     "metadata": {},
     "output_type": "execute_result"
    }
   ],
   "source": [
    "calc_a(23, 4)"
   ]
  },
  {
   "cell_type": "code",
   "execution_count": 19,
   "id": "7c2e6aa7",
   "metadata": {},
   "outputs": [
    {
     "ename": "LoadError",
     "evalue": "MethodError: no method matching calc_a(::Int64, ::Int64; d=234)\nClosest candidates are:\n  calc_a(::Any, ::Any) at In[16]:1 got unsupported keyword argument \"d\"\n  calc_a(::Any, ::Any, !Matched::Any) at In[16]:1 got unsupported keyword argument \"d\"\n  calc_a(::Any, ::Any, !Matched::Any, !Matched::Any) at In[16]:1 got unsupported keyword argument \"d\"\n  ...",
     "output_type": "error",
     "traceback": [
      "MethodError: no method matching calc_a(::Int64, ::Int64; d=234)\nClosest candidates are:\n  calc_a(::Any, ::Any) at In[16]:1 got unsupported keyword argument \"d\"\n  calc_a(::Any, ::Any, !Matched::Any) at In[16]:1 got unsupported keyword argument \"d\"\n  calc_a(::Any, ::Any, !Matched::Any, !Matched::Any) at In[16]:1 got unsupported keyword argument \"d\"\n  ...",
      "",
      "Stacktrace:",
      " [1] top-level scope at In[19]:1",
      " [2] include_string(::Function, ::Module, ::String, ::String) at ./loading.jl:1091"
     ]
    }
   ],
   "source": [
    "calc_a(23, 4, d=234)"
   ]
  },
  {
   "cell_type": "code",
   "execution_count": 20,
   "id": "6ad6d6cb",
   "metadata": {},
   "outputs": [
    {
     "ename": "LoadError",
     "evalue": "MethodError: no method matching calc_a(::Int64, ::Int64; apple=1)\nClosest candidates are:\n  calc_a(::Any, ::Any) at In[16]:1 got unsupported keyword argument \"apple\"\n  calc_a(::Any, ::Any, !Matched::Any) at In[16]:1 got unsupported keyword argument \"apple\"\n  calc_a(::Any, ::Any, !Matched::Any, !Matched::Any) at In[16]:1 got unsupported keyword argument \"apple\"\n  ...",
     "output_type": "error",
     "traceback": [
      "MethodError: no method matching calc_a(::Int64, ::Int64; apple=1)\nClosest candidates are:\n  calc_a(::Any, ::Any) at In[16]:1 got unsupported keyword argument \"apple\"\n  calc_a(::Any, ::Any, !Matched::Any) at In[16]:1 got unsupported keyword argument \"apple\"\n  calc_a(::Any, ::Any, !Matched::Any, !Matched::Any) at In[16]:1 got unsupported keyword argument \"apple\"\n  ...",
      "",
      "Stacktrace:",
      " [1] top-level scope at In[20]:1",
      " [2] include_string(::Function, ::Module, ::String, ::String) at ./loading.jl:1091"
     ]
    }
   ],
   "source": [
    "calc_a(3, 4, apple=1)"
   ]
  },
  {
   "cell_type": "markdown",
   "id": "4be6fc97",
   "metadata": {},
   "source": [
    "# Documenting functions"
   ]
  },
  {
   "cell_type": "markdown",
   "id": "3e8a8591",
   "metadata": {},
   "source": [
    "## Example 9"
   ]
  },
  {
   "cell_type": "code",
   "execution_count": 21,
   "id": "a0839220",
   "metadata": {},
   "outputs": [
    {
     "data": {
      "text/plain": [
       "describe_vars"
      ]
     },
     "execution_count": 21,
     "metadata": {},
     "output_type": "execute_result"
    }
   ],
   "source": [
    "\"\"\"\n",
    "    describe_vars(a::Dict, b::Dict, c::Dict)\n",
    "Describe three dictionaries, a, b, and c, and give descriptive statistics for each: mean and standard deviation.\n",
    "\n",
    "# Examples:\n",
    "```\n",
    "a = Dict(\"name\" => \"var1\", \"values\" => [2, 3, 45, 656567,567676])\n",
    "b = Dict(\"name\" => \"var2\", \"values\" => [5, 6, 7, 8, 9, 9])\n",
    "c = Dict(\"name\" => \"var3\", \"values\" => [10, 23, 43, 12, 23])\n",
    "\n",
    "describe_vars(a, b, c)\n",
    "```\n",
    "# Arguments:\n",
    "\n",
    "- a: a dictionary with keys 'name' and 'values'\n",
    "- b: a dictionary with keys 'name' and 'values'\n",
    "- c: a dictionary with keys 'name' and 'values'\n",
    "\n",
    "\"\"\"\n",
    "function describe_vars(a::Dict, b::Dict, c::Dict)\n",
    "    println(\"==============================================\")\n",
    "    println(\"|--------- Descriptive Statistics -----------|\")\n",
    "    println(\"==============================================\")\n",
    "    println(\"| Name             |      Mean  |         SD |\")\n",
    "    println(\"----------------------------------------------\")\n",
    "    for i in (a, b, c)\n",
    "        name = i[\"name\"] \n",
    "        str1 = repeat(\" \", 16 - length(string(name)))\n",
    "        m = round(mean(i[\"values\"]); digits = 2)        \n",
    "        str2 = repeat(\" \", 10 - length(string(m)))\n",
    "        s = round(std(i[\"values\"]); digits = 2)\n",
    "        str3 = repeat(\" \", 10 - length(string(s)))\n",
    "        println(\"| $name $str1|$str2 $m |$str3 $s |\")\n",
    "    end\n",
    "    println(\"==============================================\")\n",
    "end"
   ]
  },
  {
   "cell_type": "code",
   "execution_count": 22,
   "id": "99307be5",
   "metadata": {},
   "outputs": [
    {
     "name": "stdout",
     "output_type": "stream",
     "text": [
      "search: \u001b[0m\u001b[1md\u001b[22m\u001b[0m\u001b[1me\u001b[22m\u001b[0m\u001b[1ms\u001b[22m\u001b[0m\u001b[1mc\u001b[22m\u001b[0m\u001b[1mr\u001b[22m\u001b[0m\u001b[1mi\u001b[22m\u001b[0m\u001b[1mb\u001b[22m\u001b[0m\u001b[1me\u001b[22m\u001b[0m\u001b[1m_\u001b[22m\u001b[0m\u001b[1mv\u001b[22m\u001b[0m\u001b[1ma\u001b[22m\u001b[0m\u001b[1mr\u001b[22m\u001b[0m\u001b[1ms\u001b[22m\n",
      "\n"
     ]
    },
    {
     "data": {
      "text/latex": [
       "\\begin{verbatim}\n",
       "describe_vars(a::Dict, b::Dict, c::Dict)\n",
       "\\end{verbatim}\n",
       "Describe three dictionaries, a, b, and c, and give descriptive statistics for each: mean and standard deviation.\n",
       "\n",
       "\\section{Examples:}\n",
       "\\begin{verbatim}\n",
       "a = Dict(\"name\" => \"var1\", \"values\" => [2, 3, 45, 656567,567676])\n",
       "b = Dict(\"name\" => \"var2\", \"values\" => [5, 6, 7, 8, 9, 9])\n",
       "c = Dict(\"name\" => \"var3\", \"values\" => [10, 23, 43, 12, 23])\n",
       "\n",
       "describe_vars(a, b, c)\n",
       "\\end{verbatim}\n",
       "\\section{Arguments:}\n",
       "\\begin{itemize}\n",
       "\\item a: a dictionary with keys 'name' and 'values'\n",
       "\n",
       "\n",
       "\\item b: a dictionary with keys 'name' and 'values'\n",
       "\n",
       "\n",
       "\\item c: a dictionary with keys 'name' and 'values'\n",
       "\n",
       "\\end{itemize}\n"
      ],
      "text/markdown": [
       "```\n",
       "describe_vars(a::Dict, b::Dict, c::Dict)\n",
       "```\n",
       "\n",
       "Describe three dictionaries, a, b, and c, and give descriptive statistics for each: mean and standard deviation.\n",
       "\n",
       "# Examples:\n",
       "\n",
       "```\n",
       "a = Dict(\"name\" => \"var1\", \"values\" => [2, 3, 45, 656567,567676])\n",
       "b = Dict(\"name\" => \"var2\", \"values\" => [5, 6, 7, 8, 9, 9])\n",
       "c = Dict(\"name\" => \"var3\", \"values\" => [10, 23, 43, 12, 23])\n",
       "\n",
       "describe_vars(a, b, c)\n",
       "```\n",
       "\n",
       "# Arguments:\n",
       "\n",
       "  * a: a dictionary with keys 'name' and 'values'\n",
       "  * b: a dictionary with keys 'name' and 'values'\n",
       "  * c: a dictionary with keys 'name' and 'values'\n"
      ],
      "text/plain": [
       "\u001b[36m  describe_vars(a::Dict, b::Dict, c::Dict)\u001b[39m\n",
       "\n",
       "  Describe three dictionaries, a, b, and c, and give descriptive statistics\n",
       "  for each: mean and standard deviation.\n",
       "\n",
       "\u001b[1m  Examples:\u001b[22m\n",
       "\u001b[1m  ≡≡≡≡≡≡≡≡≡≡≡\u001b[22m\n",
       "\n",
       "\u001b[36m  a = Dict(\"name\" => \"var1\", \"values\" => [2, 3, 45, 656567,567676])\u001b[39m\n",
       "\u001b[36m  b = Dict(\"name\" => \"var2\", \"values\" => [5, 6, 7, 8, 9, 9])\u001b[39m\n",
       "\u001b[36m  c = Dict(\"name\" => \"var3\", \"values\" => [10, 23, 43, 12, 23])\u001b[39m\n",
       "\u001b[36m  \u001b[39m\n",
       "\u001b[36m  describe_vars(a, b, c)\u001b[39m\n",
       "\n",
       "\u001b[1m  Arguments:\u001b[22m\n",
       "\u001b[1m  ≡≡≡≡≡≡≡≡≡≡≡≡\u001b[22m\n",
       "\n",
       "    •    a: a dictionary with keys 'name' and 'values'\n",
       "\n",
       "    •    b: a dictionary with keys 'name' and 'values'\n",
       "\n",
       "    •    c: a dictionary with keys 'name' and 'values'"
      ]
     },
     "execution_count": 22,
     "metadata": {},
     "output_type": "execute_result"
    }
   ],
   "source": [
    "?describe_vars"
   ]
  },
  {
   "cell_type": "markdown",
   "id": "54bcdde1",
   "metadata": {},
   "source": [
    "# Args and kwargs"
   ]
  },
  {
   "cell_type": "markdown",
   "id": "ab7be8cf",
   "metadata": {},
   "source": [
    "## Example 10"
   ]
  },
  {
   "cell_type": "code",
   "execution_count": 23,
   "id": "2519c4f8",
   "metadata": {},
   "outputs": [
    {
     "data": {
      "text/plain": [
       "my_func (generic function with 1 method)"
      ]
     },
     "execution_count": 23,
     "metadata": {},
     "output_type": "execute_result"
    }
   ],
   "source": [
    "function my_func(args... ; kwargs...)\n",
    "    try\n",
    "        if !isempty(args) & isempty(kwargs)\n",
    "            println(sum(args))\n",
    "        elseif isempty(args) & !isempty(kwargs)\n",
    "            println(sum(values(kwargs)))\n",
    "        elseif !isempty(args) & !isempty(kwargs)\n",
    "            println(sum(args))\n",
    "            println(sum(values(kwargs)))            \n",
    "        else\n",
    "            println(sum(args))\n",
    "        end\n",
    "    catch\n",
    "        println(\"Something's wrong\")\n",
    "    end\n",
    "end"
   ]
  },
  {
   "cell_type": "code",
   "execution_count": 24,
   "id": "a9778128",
   "metadata": {},
   "outputs": [
    {
     "name": "stdout",
     "output_type": "stream",
     "text": [
      "9\n"
     ]
    }
   ],
   "source": [
    "my_func(2, 3, 4)"
   ]
  },
  {
   "cell_type": "code",
   "execution_count": 25,
   "id": "6e4d2a75",
   "metadata": {},
   "outputs": [
    {
     "name": "stdout",
     "output_type": "stream",
     "text": [
      "Something's wrong\n"
     ]
    }
   ],
   "source": [
    "my_func()"
   ]
  },
  {
   "cell_type": "code",
   "execution_count": 26,
   "id": "a92de442",
   "metadata": {},
   "outputs": [
    {
     "ename": "LoadError",
     "evalue": "syntax: invalid keyword argument syntax \"1\" around In[26]:1",
     "output_type": "error",
     "traceback": [
      "syntax: invalid keyword argument syntax \"1\" around In[26]:1",
      "",
      "Stacktrace:",
      " [1] top-level scope at In[26]:1",
      " [2] include_string(::Function, ::Module, ::String, ::String) at ./loading.jl:1091"
     ]
    }
   ],
   "source": [
    "my_func(; 1, 2, 3)"
   ]
  },
  {
   "cell_type": "code",
   "execution_count": 27,
   "id": "277b5a39",
   "metadata": {},
   "outputs": [
    {
     "name": "stdout",
     "output_type": "stream",
     "text": [
      "6\n"
     ]
    }
   ],
   "source": [
    "my_func(; a=1, b=2, c=3)"
   ]
  },
  {
   "cell_type": "code",
   "execution_count": 28,
   "id": "bbd7fdb3",
   "metadata": {},
   "outputs": [
    {
     "name": "stdout",
     "output_type": "stream",
     "text": [
      "9\n",
      "6\n"
     ]
    }
   ],
   "source": [
    "my_func(2, 3, 4; a=1, b=2, c=3)"
   ]
  },
  {
   "cell_type": "code",
   "execution_count": null,
   "id": "76e4c0a3",
   "metadata": {},
   "outputs": [],
   "source": []
  }
 ],
 "metadata": {
  "@webio": {
   "lastCommId": null,
   "lastKernelId": null
  },
  "kernelspec": {
   "display_name": "Julia 1.5.2",
   "language": "julia",
   "name": "julia-1.5"
  },
  "language_info": {
   "file_extension": ".jl",
   "mimetype": "application/julia",
   "name": "julia",
   "version": "1.5.2"
  }
 },
 "nbformat": 4,
 "nbformat_minor": 5
}
